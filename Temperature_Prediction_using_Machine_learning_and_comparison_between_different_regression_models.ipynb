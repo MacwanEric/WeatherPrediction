{
  "nbformat": 4,
  "nbformat_minor": 0,
  "metadata": {
    "colab": {
      "name": "Temperature Prediction using Machine learning and comparison between different regression models.ipynb",
      "provenance": []
    },
    "kernelspec": {
      "name": "python3",
      "display_name": "Python 3"
    }
  },
  "cells": [
    {
      "cell_type": "markdown",
      "metadata": {
        "id": "NSAjR9pK6jZE"
      },
      "source": [
        "## **Using weather dataset of Basal City of Germany. Its 10 years of data from 2006–2016 and it has hourly entries of the weather related features.**"
      ]
    },
    {
      "cell_type": "markdown",
      "metadata": {
        "id": "4yRmbGOR6AQd"
      },
      "source": [
        "## Importing necessary libraries"
      ]
    },
    {
      "cell_type": "code",
      "metadata": {
        "id": "OzoPvZm43ioE"
      },
      "source": [
        "import warnings\n",
        "warnings.filterwarnings('ignore')"
      ],
      "execution_count": 42,
      "outputs": []
    },
    {
      "cell_type": "code",
      "metadata": {
        "id": "0eib0YvD4ARa"
      },
      "source": [
        "import os\n",
        "import numpy as np\n",
        "import pandas as pd"
      ],
      "execution_count": 43,
      "outputs": []
    },
    {
      "cell_type": "code",
      "metadata": {
        "id": "L4QDk6cm4TGq"
      },
      "source": [
        "from matplotlib import pyplot as plt\n",
        "%matplotlib inline"
      ],
      "execution_count": 44,
      "outputs": []
    },
    {
      "cell_type": "code",
      "metadata": {
        "id": "tHlp0k-H4iqn"
      },
      "source": [
        "import sklearn\n",
        "from sklearn.model_selection  import train_test_split\n",
        "from sklearn.metrics import accuracy_score\n",
        "\n"
      ],
      "execution_count": 45,
      "outputs": []
    },
    {
      "cell_type": "code",
      "metadata": {
        "id": "qaW5-C8E4_AC"
      },
      "source": [
        "from sklearn.linear_model import LinearRegression"
      ],
      "execution_count": 46,
      "outputs": []
    },
    {
      "cell_type": "code",
      "metadata": {
        "id": "SQ-TBdy75FCw"
      },
      "source": [
        "import tensorflow as tf\n",
        "from tensorflow import keras"
      ],
      "execution_count": 47,
      "outputs": []
    },
    {
      "cell_type": "code",
      "metadata": {
        "id": "mLfnca3k5rNe"
      },
      "source": [
        "from  sklearn import preprocessing "
      ],
      "execution_count": 48,
      "outputs": []
    },
    {
      "cell_type": "markdown",
      "metadata": {
        "id": "g8TBJ_hH6TPW"
      },
      "source": [
        "## Importing the dataframe"
      ]
    },
    {
      "cell_type": "code",
      "metadata": {
        "id": "tcWxSt_S6YDX"
      },
      "source": [
        "#os.chdir(\"..\")\n",
        "weather_df = pd.read_csv(\"/home/eric/Documents/github_projects/WeatherPrediction/Basel.csv\")\n"
      ],
      "execution_count": 49,
      "outputs": []
    },
    {
      "cell_type": "code",
      "metadata": {
        "id": "nXlt64pK-5P1",
        "outputId": "be0fdf5f-7262-432c-9284-945e60958d57",
        "colab": {
          "base_uri": "https://localhost:8080/",
          "height": 256
        }
      },
      "source": [
        "weather_df.head()"
      ],
      "execution_count": 50,
      "outputs": [
        {
          "output_type": "execute_result",
          "data": {
            "text/plain": [
              "       timestamp  Basel Temperature [2 m elevation corrected]  \\\n",
              "0  20201029T0000                                    11.315029   \n",
              "1  20201029T0100                                    10.845029   \n",
              "2  20201029T0200                                    10.855029   \n",
              "3  20201029T0300                                    11.015029   \n",
              "4  20201029T0400                                    10.705030   \n",
              "\n",
              "   Basel Precipitation Total  Basel Wind Speed [10 m]  \\\n",
              "0                        0.0                26.674032   \n",
              "1                        0.0                26.865265   \n",
              "2                        0.0                25.762016   \n",
              "3                        0.0                25.779620   \n",
              "4                        0.1                24.192429   \n",
              "\n",
              "   Basel Wind Direction [10 m]  \n",
              "0                    238.24052  \n",
              "1                    237.58770  \n",
              "2                    236.97614  \n",
              "3                    234.09029  \n",
              "4                    233.47115  "
            ],
            "text/html": "<div>\n<style scoped>\n    .dataframe tbody tr th:only-of-type {\n        vertical-align: middle;\n    }\n\n    .dataframe tbody tr th {\n        vertical-align: top;\n    }\n\n    .dataframe thead th {\n        text-align: right;\n    }\n</style>\n<table border=\"1\" class=\"dataframe\">\n  <thead>\n    <tr style=\"text-align: right;\">\n      <th></th>\n      <th>timestamp</th>\n      <th>Basel Temperature [2 m elevation corrected]</th>\n      <th>Basel Precipitation Total</th>\n      <th>Basel Wind Speed [10 m]</th>\n      <th>Basel Wind Direction [10 m]</th>\n    </tr>\n  </thead>\n  <tbody>\n    <tr>\n      <th>0</th>\n      <td>20201029T0000</td>\n      <td>11.315029</td>\n      <td>0.0</td>\n      <td>26.674032</td>\n      <td>238.24052</td>\n    </tr>\n    <tr>\n      <th>1</th>\n      <td>20201029T0100</td>\n      <td>10.845029</td>\n      <td>0.0</td>\n      <td>26.865265</td>\n      <td>237.58770</td>\n    </tr>\n    <tr>\n      <th>2</th>\n      <td>20201029T0200</td>\n      <td>10.855029</td>\n      <td>0.0</td>\n      <td>25.762016</td>\n      <td>236.97614</td>\n    </tr>\n    <tr>\n      <th>3</th>\n      <td>20201029T0300</td>\n      <td>11.015029</td>\n      <td>0.0</td>\n      <td>25.779620</td>\n      <td>234.09029</td>\n    </tr>\n    <tr>\n      <th>4</th>\n      <td>20201029T0400</td>\n      <td>10.705030</td>\n      <td>0.1</td>\n      <td>24.192429</td>\n      <td>233.47115</td>\n    </tr>\n  </tbody>\n</table>\n</div>"
          },
          "metadata": {},
          "execution_count": 50
        }
      ]
    },
    {
      "cell_type": "code",
      "metadata": {
        "id": "Tav41yO4_alI",
        "outputId": "c5c0fc0c-8e1e-45a5-fb22-a65c98a63338",
        "colab": {
          "base_uri": "https://localhost:8080/"
        }
      },
      "source": [
        "weather_df.columns"
      ],
      "execution_count": 51,
      "outputs": [
        {
          "output_type": "execute_result",
          "data": {
            "text/plain": [
              "Index(['timestamp', 'Basel Temperature [2 m elevation corrected]',\n",
              "       'Basel Precipitation Total', 'Basel Wind Speed [10 m]',\n",
              "       'Basel Wind Direction [10 m]'],\n",
              "      dtype='object')"
            ]
          },
          "metadata": {},
          "execution_count": 51
        }
      ]
    },
    {
      "cell_type": "code",
      "metadata": {
        "id": "0rxW6ZBJAbsi",
        "outputId": "dc88111e-a9ea-43bb-82b7-09b479fda644",
        "colab": {
          "base_uri": "https://localhost:8080/"
        }
      },
      "source": [
        "weather_df.shape"
      ],
      "execution_count": 52,
      "outputs": [
        {
          "output_type": "execute_result",
          "data": {
            "text/plain": [
              "(192, 5)"
            ]
          },
          "metadata": {},
          "execution_count": 52
        }
      ]
    },
    {
      "cell_type": "code",
      "metadata": {
        "id": "fJjoJo1rAl_4",
        "outputId": "84388f19-ba9b-4b49-9212-82d7369aa83f",
        "colab": {
          "base_uri": "https://localhost:8080/",
          "height": 364
        }
      },
      "source": [
        "weather_df.describe()"
      ],
      "execution_count": 53,
      "outputs": [
        {
          "output_type": "execute_result",
          "data": {
            "text/plain": [
              "       Basel Temperature [2 m elevation corrected]  Basel Precipitation Total  \\\n",
              "count                                   192.000000                 192.000000   \n",
              "mean                                     12.231696                   0.040625   \n",
              "std                                       3.534925                   0.142217   \n",
              "min                                       4.815029                   0.000000   \n",
              "25%                                       9.672529                   0.000000   \n",
              "50%                                      11.930029                   0.000000   \n",
              "75%                                      14.080029                   0.000000   \n",
              "max                                      21.745028                   1.100000   \n",
              "\n",
              "       Basel Wind Speed [10 m]  Basel Wind Direction [10 m]  \n",
              "count               192.000000                   192.000000  \n",
              "mean                 11.380468                   180.892226  \n",
              "std                   5.120395                    84.807062  \n",
              "min                   3.545589                     7.594635  \n",
              "25%                   7.901569                   135.000000  \n",
              "50%                  10.721701                   196.017075  \n",
              "75%                  13.898518                   235.561000  \n",
              "max                  26.865265                   360.000000  "
            ],
            "text/html": "<div>\n<style scoped>\n    .dataframe tbody tr th:only-of-type {\n        vertical-align: middle;\n    }\n\n    .dataframe tbody tr th {\n        vertical-align: top;\n    }\n\n    .dataframe thead th {\n        text-align: right;\n    }\n</style>\n<table border=\"1\" class=\"dataframe\">\n  <thead>\n    <tr style=\"text-align: right;\">\n      <th></th>\n      <th>Basel Temperature [2 m elevation corrected]</th>\n      <th>Basel Precipitation Total</th>\n      <th>Basel Wind Speed [10 m]</th>\n      <th>Basel Wind Direction [10 m]</th>\n    </tr>\n  </thead>\n  <tbody>\n    <tr>\n      <th>count</th>\n      <td>192.000000</td>\n      <td>192.000000</td>\n      <td>192.000000</td>\n      <td>192.000000</td>\n    </tr>\n    <tr>\n      <th>mean</th>\n      <td>12.231696</td>\n      <td>0.040625</td>\n      <td>11.380468</td>\n      <td>180.892226</td>\n    </tr>\n    <tr>\n      <th>std</th>\n      <td>3.534925</td>\n      <td>0.142217</td>\n      <td>5.120395</td>\n      <td>84.807062</td>\n    </tr>\n    <tr>\n      <th>min</th>\n      <td>4.815029</td>\n      <td>0.000000</td>\n      <td>3.545589</td>\n      <td>7.594635</td>\n    </tr>\n    <tr>\n      <th>25%</th>\n      <td>9.672529</td>\n      <td>0.000000</td>\n      <td>7.901569</td>\n      <td>135.000000</td>\n    </tr>\n    <tr>\n      <th>50%</th>\n      <td>11.930029</td>\n      <td>0.000000</td>\n      <td>10.721701</td>\n      <td>196.017075</td>\n    </tr>\n    <tr>\n      <th>75%</th>\n      <td>14.080029</td>\n      <td>0.000000</td>\n      <td>13.898518</td>\n      <td>235.561000</td>\n    </tr>\n    <tr>\n      <th>max</th>\n      <td>21.745028</td>\n      <td>1.100000</td>\n      <td>26.865265</td>\n      <td>360.000000</td>\n    </tr>\n  </tbody>\n</table>\n</div>"
          },
          "metadata": {},
          "execution_count": 53
        }
      ]
    },
    {
      "cell_type": "code",
      "metadata": {
        "id": "vHCtsRuVAtB7",
        "outputId": "1477bc44-1a26-4a35-9022-72f90ab9a3d1",
        "colab": {
          "base_uri": "https://localhost:8080/"
        }
      },
      "source": [
        "weather_df.isnull().any()"
      ],
      "execution_count": 54,
      "outputs": [
        {
          "output_type": "execute_result",
          "data": {
            "text/plain": [
              "timestamp                                      False\n",
              "Basel Temperature [2 m elevation corrected]    False\n",
              "Basel Precipitation Total                      False\n",
              "Basel Wind Speed [10 m]                        False\n",
              "Basel Wind Direction [10 m]                    False\n",
              "dtype: bool"
            ]
          },
          "metadata": {},
          "execution_count": 54
        }
      ]
    },
    {
      "cell_type": "code",
      "metadata": {
        "id": "BFUY_4PdBMHx"
      },
      "source": [
        "weather_df_num = weather_df[list(weather_df.dtypes[weather_df.dtypes!='object'].index)]"
      ],
      "execution_count": 55,
      "outputs": []
    },
    {
      "cell_type": "code",
      "metadata": {
        "id": "4yTsKlmJGaMy"
      },
      "source": [
        "weather_y = weather_df_num.pop('Basel Temperature [2 m elevation corrected]')\n",
        "weather_x = weather_df_num"
      ],
      "execution_count": 56,
      "outputs": []
    },
    {
      "cell_type": "code",
      "metadata": {
        "id": "AThXsyldGxjp"
      },
      "source": [
        "train_x,test_x,train_y,test_y = train_test_split(weather_x,weather_y,test_size = 0.2,random_state = 4)"
      ],
      "execution_count": 57,
      "outputs": []
    },
    {
      "cell_type": "code",
      "metadata": {
        "id": "I2HSj3izHQsQ",
        "outputId": "cc6a3de4-e229-4a7f-8ade-73eadce12689",
        "colab": {
          "base_uri": "https://localhost:8080/",
          "height": 234
        }
      },
      "source": [
        "train_x.head()"
      ],
      "execution_count": 58,
      "outputs": [
        {
          "output_type": "execute_result",
          "data": {
            "text/plain": [
              "     Basel Precipitation Total  Basel Wind Speed [10 m]  \\\n",
              "26                         0.0                15.913465   \n",
              "80                         0.0                 9.779817   \n",
              "190                        0.0                 7.771331   \n",
              "113                        0.0                10.883676   \n",
              "105                        0.0                11.159999   \n",
              "\n",
              "     Basel Wind Direction [10 m]  \n",
              "26                     232.35239  \n",
              "80                     186.34020  \n",
              "190                     76.60750  \n",
              "113                    214.21570  \n",
              "105                    180.00000  "
            ],
            "text/html": "<div>\n<style scoped>\n    .dataframe tbody tr th:only-of-type {\n        vertical-align: middle;\n    }\n\n    .dataframe tbody tr th {\n        vertical-align: top;\n    }\n\n    .dataframe thead th {\n        text-align: right;\n    }\n</style>\n<table border=\"1\" class=\"dataframe\">\n  <thead>\n    <tr style=\"text-align: right;\">\n      <th></th>\n      <th>Basel Precipitation Total</th>\n      <th>Basel Wind Speed [10 m]</th>\n      <th>Basel Wind Direction [10 m]</th>\n    </tr>\n  </thead>\n  <tbody>\n    <tr>\n      <th>26</th>\n      <td>0.0</td>\n      <td>15.913465</td>\n      <td>232.35239</td>\n    </tr>\n    <tr>\n      <th>80</th>\n      <td>0.0</td>\n      <td>9.779817</td>\n      <td>186.34020</td>\n    </tr>\n    <tr>\n      <th>190</th>\n      <td>0.0</td>\n      <td>7.771331</td>\n      <td>76.60750</td>\n    </tr>\n    <tr>\n      <th>113</th>\n      <td>0.0</td>\n      <td>10.883676</td>\n      <td>214.21570</td>\n    </tr>\n    <tr>\n      <th>105</th>\n      <td>0.0</td>\n      <td>11.159999</td>\n      <td>180.00000</td>\n    </tr>\n  </tbody>\n</table>\n</div>"
          },
          "metadata": {},
          "execution_count": 58
        }
      ]
    },
    {
      "cell_type": "code",
      "metadata": {
        "id": "Nf19G8phHTu_"
      },
      "source": [
        ""
      ],
      "execution_count": 70,
      "outputs": []
    },
    {
      "cell_type": "markdown",
      "metadata": {
        "id": "a5MbarBXHbFM"
      },
      "source": [
        "## **Implementation of Models**\n",
        "\n",
        "## **Linear Regression**"
      ]
    },
    {
      "cell_type": "code",
      "metadata": {
        "id": "X76rI_ynHi1d",
        "outputId": "a68e9891-2733-4a58-86ad-11fa195fa558",
        "colab": {
          "base_uri": "https://localhost:8080/"
        }
      },
      "source": [
        "model = LinearRegression()\n",
        "model.fit(train_x,train_y)"
      ],
      "execution_count": 59,
      "outputs": [
        {
          "output_type": "execute_result",
          "data": {
            "text/plain": [
              "LinearRegression(copy_X=True, fit_intercept=True, n_jobs=None, normalize=False)"
            ]
          },
          "metadata": {},
          "execution_count": 59
        }
      ]
    },
    {
      "cell_type": "code",
      "metadata": {
        "id": "V4Z7e6xjH1Aj"
      },
      "source": [
        "prediction = model.predict(test_x)"
      ],
      "execution_count": 60,
      "outputs": []
    },
    {
      "cell_type": "code",
      "metadata": {
        "id": "R8nA-ih9H9-N",
        "outputId": "a746f5ea-851f-4990-cbcb-23217d038779",
        "colab": {
          "base_uri": "https://localhost:8080/"
        }
      },
      "source": [
        "## Calculating the error\n",
        "linear_regression_error = np.mean((prediction-test_y)**2)\n",
        "linear_regression_error"
      ],
      "execution_count": 61,
      "outputs": [
        {
          "output_type": "execute_result",
          "data": {
            "text/plain": [
              "7.5770207963850025"
            ]
          },
          "metadata": {},
          "execution_count": 61
        }
      ]
    },
    {
      "cell_type": "code",
      "metadata": {
        "id": "jwodJj1fIJzA",
        "outputId": "12b09176-7a08-406f-b2c7-b62bd92f3fac",
        "colab": {
          "base_uri": "https://localhost:8080/",
          "height": 1000
        }
      },
      "source": [
        "pd.DataFrame({'actual':test_y,\n",
        "              'prediction':prediction,\n",
        "              'diff':(test_y-prediction)})"
      ],
      "execution_count": 62,
      "outputs": [
        {
          "output_type": "execute_result",
          "data": {
            "text/plain": [
              "        actual  prediction      diff\n",
              "11   12.595029   11.648674  0.946355\n",
              "142  10.235029   14.055137 -3.820108\n",
              "34   12.315029   13.494959 -1.179930\n",
              "169   7.905028    9.474662 -1.569633\n",
              "1    10.845029   16.061806 -5.216777\n",
              "69   11.375029   12.124250 -0.749221\n",
              "152   5.845029    8.715860 -2.870831\n",
              "188   9.595029   10.244431 -0.649402\n",
              "48    9.915029   10.392667 -0.477638\n",
              "178   8.715029    9.690444 -0.975415\n",
              "182  12.015029   10.438796  1.576233\n",
              "168   8.125029    9.552417 -1.427388\n",
              "101  14.075029   12.659554  1.415475\n",
              "61   17.495028   11.717934  5.777094\n",
              "93   13.855029   11.690105  2.164924\n",
              "189   7.215029    9.951984 -2.736955\n",
              "82   13.525029   13.187543  0.337486\n",
              "181  11.365029   10.307966  1.057063\n",
              "71    9.275029   12.065741 -2.790712\n",
              "179   9.775029    9.985094 -0.210065\n",
              "89   14.745029   12.642327  2.102702\n",
              "83   14.185029   13.552859  0.632170\n",
              "154   9.215029    9.497190 -0.282161\n",
              "33   11.745029   13.427730 -1.682701\n",
              "88   16.245030   12.831143  3.413887\n",
              "110  21.285028   13.760774  7.524254\n",
              "6    10.425029   12.137126 -1.712097\n",
              "14   13.165029   15.640382 -2.475353\n",
              "121  16.655030   14.477250  2.177780\n",
              "180  10.595029   10.182621  0.412408\n",
              "18   12.925029   14.138038 -1.213009\n",
              "153   7.925029    9.154477 -1.229448\n",
              "175   5.975029    8.962200 -2.987171\n",
              "135  12.055029   13.686351 -1.631322\n",
              "165   8.435029    9.349111 -0.914082\n",
              "99   14.115029   12.816622  1.298407\n",
              "111  21.705029   13.822598  7.882431\n",
              "102  14.115029   12.561235  1.553794\n",
              "120  17.035028   14.628783  2.406245"
            ],
            "text/html": "<div>\n<style scoped>\n    .dataframe tbody tr th:only-of-type {\n        vertical-align: middle;\n    }\n\n    .dataframe tbody tr th {\n        vertical-align: top;\n    }\n\n    .dataframe thead th {\n        text-align: right;\n    }\n</style>\n<table border=\"1\" class=\"dataframe\">\n  <thead>\n    <tr style=\"text-align: right;\">\n      <th></th>\n      <th>actual</th>\n      <th>prediction</th>\n      <th>diff</th>\n    </tr>\n  </thead>\n  <tbody>\n    <tr>\n      <th>11</th>\n      <td>12.595029</td>\n      <td>11.648674</td>\n      <td>0.946355</td>\n    </tr>\n    <tr>\n      <th>142</th>\n      <td>10.235029</td>\n      <td>14.055137</td>\n      <td>-3.820108</td>\n    </tr>\n    <tr>\n      <th>34</th>\n      <td>12.315029</td>\n      <td>13.494959</td>\n      <td>-1.179930</td>\n    </tr>\n    <tr>\n      <th>169</th>\n      <td>7.905028</td>\n      <td>9.474662</td>\n      <td>-1.569633</td>\n    </tr>\n    <tr>\n      <th>1</th>\n      <td>10.845029</td>\n      <td>16.061806</td>\n      <td>-5.216777</td>\n    </tr>\n    <tr>\n      <th>69</th>\n      <td>11.375029</td>\n      <td>12.124250</td>\n      <td>-0.749221</td>\n    </tr>\n    <tr>\n      <th>152</th>\n      <td>5.845029</td>\n      <td>8.715860</td>\n      <td>-2.870831</td>\n    </tr>\n    <tr>\n      <th>188</th>\n      <td>9.595029</td>\n      <td>10.244431</td>\n      <td>-0.649402</td>\n    </tr>\n    <tr>\n      <th>48</th>\n      <td>9.915029</td>\n      <td>10.392667</td>\n      <td>-0.477638</td>\n    </tr>\n    <tr>\n      <th>178</th>\n      <td>8.715029</td>\n      <td>9.690444</td>\n      <td>-0.975415</td>\n    </tr>\n    <tr>\n      <th>182</th>\n      <td>12.015029</td>\n      <td>10.438796</td>\n      <td>1.576233</td>\n    </tr>\n    <tr>\n      <th>168</th>\n      <td>8.125029</td>\n      <td>9.552417</td>\n      <td>-1.427388</td>\n    </tr>\n    <tr>\n      <th>101</th>\n      <td>14.075029</td>\n      <td>12.659554</td>\n      <td>1.415475</td>\n    </tr>\n    <tr>\n      <th>61</th>\n      <td>17.495028</td>\n      <td>11.717934</td>\n      <td>5.777094</td>\n    </tr>\n    <tr>\n      <th>93</th>\n      <td>13.855029</td>\n      <td>11.690105</td>\n      <td>2.164924</td>\n    </tr>\n    <tr>\n      <th>189</th>\n      <td>7.215029</td>\n      <td>9.951984</td>\n      <td>-2.736955</td>\n    </tr>\n    <tr>\n      <th>82</th>\n      <td>13.525029</td>\n      <td>13.187543</td>\n      <td>0.337486</td>\n    </tr>\n    <tr>\n      <th>181</th>\n      <td>11.365029</td>\n      <td>10.307966</td>\n      <td>1.057063</td>\n    </tr>\n    <tr>\n      <th>71</th>\n      <td>9.275029</td>\n      <td>12.065741</td>\n      <td>-2.790712</td>\n    </tr>\n    <tr>\n      <th>179</th>\n      <td>9.775029</td>\n      <td>9.985094</td>\n      <td>-0.210065</td>\n    </tr>\n    <tr>\n      <th>89</th>\n      <td>14.745029</td>\n      <td>12.642327</td>\n      <td>2.102702</td>\n    </tr>\n    <tr>\n      <th>83</th>\n      <td>14.185029</td>\n      <td>13.552859</td>\n      <td>0.632170</td>\n    </tr>\n    <tr>\n      <th>154</th>\n      <td>9.215029</td>\n      <td>9.497190</td>\n      <td>-0.282161</td>\n    </tr>\n    <tr>\n      <th>33</th>\n      <td>11.745029</td>\n      <td>13.427730</td>\n      <td>-1.682701</td>\n    </tr>\n    <tr>\n      <th>88</th>\n      <td>16.245030</td>\n      <td>12.831143</td>\n      <td>3.413887</td>\n    </tr>\n    <tr>\n      <th>110</th>\n      <td>21.285028</td>\n      <td>13.760774</td>\n      <td>7.524254</td>\n    </tr>\n    <tr>\n      <th>6</th>\n      <td>10.425029</td>\n      <td>12.137126</td>\n      <td>-1.712097</td>\n    </tr>\n    <tr>\n      <th>14</th>\n      <td>13.165029</td>\n      <td>15.640382</td>\n      <td>-2.475353</td>\n    </tr>\n    <tr>\n      <th>121</th>\n      <td>16.655030</td>\n      <td>14.477250</td>\n      <td>2.177780</td>\n    </tr>\n    <tr>\n      <th>180</th>\n      <td>10.595029</td>\n      <td>10.182621</td>\n      <td>0.412408</td>\n    </tr>\n    <tr>\n      <th>18</th>\n      <td>12.925029</td>\n      <td>14.138038</td>\n      <td>-1.213009</td>\n    </tr>\n    <tr>\n      <th>153</th>\n      <td>7.925029</td>\n      <td>9.154477</td>\n      <td>-1.229448</td>\n    </tr>\n    <tr>\n      <th>175</th>\n      <td>5.975029</td>\n      <td>8.962200</td>\n      <td>-2.987171</td>\n    </tr>\n    <tr>\n      <th>135</th>\n      <td>12.055029</td>\n      <td>13.686351</td>\n      <td>-1.631322</td>\n    </tr>\n    <tr>\n      <th>165</th>\n      <td>8.435029</td>\n      <td>9.349111</td>\n      <td>-0.914082</td>\n    </tr>\n    <tr>\n      <th>99</th>\n      <td>14.115029</td>\n      <td>12.816622</td>\n      <td>1.298407</td>\n    </tr>\n    <tr>\n      <th>111</th>\n      <td>21.705029</td>\n      <td>13.822598</td>\n      <td>7.882431</td>\n    </tr>\n    <tr>\n      <th>102</th>\n      <td>14.115029</td>\n      <td>12.561235</td>\n      <td>1.553794</td>\n    </tr>\n    <tr>\n      <th>120</th>\n      <td>17.035028</td>\n      <td>14.628783</td>\n      <td>2.406245</td>\n    </tr>\n  </tbody>\n</table>\n</div>"
          },
          "metadata": {},
          "execution_count": 62
        }
      ]
    },
    {
      "cell_type": "code",
      "metadata": {
        "id": "FWs6_rgPIe1D"
      },
      "source": [
        ""
      ],
      "execution_count": 74,
      "outputs": []
    },
    {
      "cell_type": "markdown",
      "metadata": {
        "id": "-i-MP-NPLXyJ"
      },
      "source": [
        "## **Polynomial Regression**"
      ]
    },
    {
      "cell_type": "code",
      "metadata": {
        "id": "SP6RCYx9Lb60"
      },
      "source": [
        "from sklearn.preprocessing import PolynomialFeatures"
      ],
      "execution_count": 63,
      "outputs": []
    },
    {
      "cell_type": "code",
      "metadata": {
        "id": "nm6cLQNSLqmN",
        "outputId": "f4536a77-5642-4559-f956-9bfb5a10aae1",
        "colab": {
          "base_uri": "https://localhost:8080/"
        }
      },
      "source": [
        "poly = PolynomialFeatures(degree=4)\n",
        "x_poly = poly.fit_transform(train_x)\n",
        "\n",
        "poly.fit(x_poly,train_y)\n",
        "lin2 = LinearRegression()\n",
        "lin2.fit(x_poly,train_y)"
      ],
      "execution_count": 64,
      "outputs": [
        {
          "output_type": "execute_result",
          "data": {
            "text/plain": [
              "LinearRegression(copy_X=True, fit_intercept=True, n_jobs=None, normalize=False)"
            ]
          },
          "metadata": {},
          "execution_count": 64
        }
      ]
    },
    {
      "cell_type": "code",
      "metadata": {
        "id": "4OqLrQNPN7Tw",
        "outputId": "594b3cd4-5ed0-4289-808d-c2b3c2c96628",
        "colab": {
          "base_uri": "https://localhost:8080/"
        }
      },
      "source": [
        "prediction2 = lin2.predict(poly.fit_transform(test_x))\n",
        "## Calculating the error\n",
        "polynomical_regression_error = np.mean((prediction2-test_y)**2)\n",
        "polynomical_regression_error"
      ],
      "execution_count": 65,
      "outputs": [
        {
          "output_type": "execute_result",
          "data": {
            "text/plain": [
              "144.06419390642378"
            ]
          },
          "metadata": {},
          "execution_count": 65
        }
      ]
    },
    {
      "cell_type": "code",
      "metadata": {
        "id": "E3we4lwlORSN",
        "outputId": "2696f8f3-b79d-4696-bc3f-d64530dcd1ea",
        "colab": {
          "base_uri": "https://localhost:8080/",
          "height": 1000
        }
      },
      "source": [
        "pd.DataFrame({'actual':test_y,\n",
        "              'prediction':prediction2,\n",
        "              'diff':(test_y-prediction2)})"
      ],
      "execution_count": 66,
      "outputs": [
        {
          "output_type": "execute_result",
          "data": {
            "text/plain": [
              "        actual  prediction       diff\n",
              "11   12.595029   85.676164 -73.081135\n",
              "142  10.235029   12.666774  -2.431745\n",
              "34   12.315029   14.582501  -2.267472\n",
              "169   7.905028    8.031607  -0.126578\n",
              "1    10.845029    9.246128   1.598901\n",
              "69   11.375029   13.304405  -1.929376\n",
              "152   5.845029    6.547222  -0.702193\n",
              "188   9.595029   10.167893  -0.572864\n",
              "48    9.915029   10.218702  -0.303673\n",
              "178   8.715029    8.565643   0.149386\n",
              "182  12.015029   11.362594   0.652435\n",
              "168   8.125029    8.369840  -0.244811\n",
              "101  14.075029   14.314250  -0.239221\n",
              "61   17.495028   12.551698   4.943330\n",
              "93   13.855029   21.117747  -7.262718\n",
              "189   7.215029    8.800560  -1.585531\n",
              "82   13.525029   15.017357  -1.492328\n",
              "181  11.365029   10.913521   0.451508\n",
              "71    9.275029   13.153464  -3.878435\n",
              "179   9.775029    9.474061   0.300968\n",
              "89   14.745029   14.738823   0.006206\n",
              "83   14.185029   16.400542  -2.215513\n",
              "154   9.215029    9.156993   0.058036\n",
              "33   11.745029   14.822025  -3.076996\n",
              "88   16.245030   15.567300   0.677730\n",
              "110  21.285028   15.147424   6.137604\n",
              "6    10.425029   15.425867  -5.000838\n",
              "14   13.165029   14.069492  -0.904463\n",
              "121  16.655030   12.271583   4.383447\n",
              "180  10.595029   10.328569   0.266460\n",
              "18   12.925029   14.828667  -1.903638\n",
              "153   7.925029    8.033444  -0.108415\n",
              "175   5.975029    6.765520  -0.790491\n",
              "135  12.055029   13.897717  -1.842688\n",
              "165   8.435029    8.194208   0.240821\n",
              "99   14.115029   15.071587  -0.956558\n",
              "111  21.705029   15.186654   6.518375\n",
              "102  14.115029   14.103657   0.011372\n",
              "120  17.035028   13.454251   3.580777"
            ],
            "text/html": "<div>\n<style scoped>\n    .dataframe tbody tr th:only-of-type {\n        vertical-align: middle;\n    }\n\n    .dataframe tbody tr th {\n        vertical-align: top;\n    }\n\n    .dataframe thead th {\n        text-align: right;\n    }\n</style>\n<table border=\"1\" class=\"dataframe\">\n  <thead>\n    <tr style=\"text-align: right;\">\n      <th></th>\n      <th>actual</th>\n      <th>prediction</th>\n      <th>diff</th>\n    </tr>\n  </thead>\n  <tbody>\n    <tr>\n      <th>11</th>\n      <td>12.595029</td>\n      <td>85.676164</td>\n      <td>-73.081135</td>\n    </tr>\n    <tr>\n      <th>142</th>\n      <td>10.235029</td>\n      <td>12.666774</td>\n      <td>-2.431745</td>\n    </tr>\n    <tr>\n      <th>34</th>\n      <td>12.315029</td>\n      <td>14.582501</td>\n      <td>-2.267472</td>\n    </tr>\n    <tr>\n      <th>169</th>\n      <td>7.905028</td>\n      <td>8.031607</td>\n      <td>-0.126578</td>\n    </tr>\n    <tr>\n      <th>1</th>\n      <td>10.845029</td>\n      <td>9.246128</td>\n      <td>1.598901</td>\n    </tr>\n    <tr>\n      <th>69</th>\n      <td>11.375029</td>\n      <td>13.304405</td>\n      <td>-1.929376</td>\n    </tr>\n    <tr>\n      <th>152</th>\n      <td>5.845029</td>\n      <td>6.547222</td>\n      <td>-0.702193</td>\n    </tr>\n    <tr>\n      <th>188</th>\n      <td>9.595029</td>\n      <td>10.167893</td>\n      <td>-0.572864</td>\n    </tr>\n    <tr>\n      <th>48</th>\n      <td>9.915029</td>\n      <td>10.218702</td>\n      <td>-0.303673</td>\n    </tr>\n    <tr>\n      <th>178</th>\n      <td>8.715029</td>\n      <td>8.565643</td>\n      <td>0.149386</td>\n    </tr>\n    <tr>\n      <th>182</th>\n      <td>12.015029</td>\n      <td>11.362594</td>\n      <td>0.652435</td>\n    </tr>\n    <tr>\n      <th>168</th>\n      <td>8.125029</td>\n      <td>8.369840</td>\n      <td>-0.244811</td>\n    </tr>\n    <tr>\n      <th>101</th>\n      <td>14.075029</td>\n      <td>14.314250</td>\n      <td>-0.239221</td>\n    </tr>\n    <tr>\n      <th>61</th>\n      <td>17.495028</td>\n      <td>12.551698</td>\n      <td>4.943330</td>\n    </tr>\n    <tr>\n      <th>93</th>\n      <td>13.855029</td>\n      <td>21.117747</td>\n      <td>-7.262718</td>\n    </tr>\n    <tr>\n      <th>189</th>\n      <td>7.215029</td>\n      <td>8.800560</td>\n      <td>-1.585531</td>\n    </tr>\n    <tr>\n      <th>82</th>\n      <td>13.525029</td>\n      <td>15.017357</td>\n      <td>-1.492328</td>\n    </tr>\n    <tr>\n      <th>181</th>\n      <td>11.365029</td>\n      <td>10.913521</td>\n      <td>0.451508</td>\n    </tr>\n    <tr>\n      <th>71</th>\n      <td>9.275029</td>\n      <td>13.153464</td>\n      <td>-3.878435</td>\n    </tr>\n    <tr>\n      <th>179</th>\n      <td>9.775029</td>\n      <td>9.474061</td>\n      <td>0.300968</td>\n    </tr>\n    <tr>\n      <th>89</th>\n      <td>14.745029</td>\n      <td>14.738823</td>\n      <td>0.006206</td>\n    </tr>\n    <tr>\n      <th>83</th>\n      <td>14.185029</td>\n      <td>16.400542</td>\n      <td>-2.215513</td>\n    </tr>\n    <tr>\n      <th>154</th>\n      <td>9.215029</td>\n      <td>9.156993</td>\n      <td>0.058036</td>\n    </tr>\n    <tr>\n      <th>33</th>\n      <td>11.745029</td>\n      <td>14.822025</td>\n      <td>-3.076996</td>\n    </tr>\n    <tr>\n      <th>88</th>\n      <td>16.245030</td>\n      <td>15.567300</td>\n      <td>0.677730</td>\n    </tr>\n    <tr>\n      <th>110</th>\n      <td>21.285028</td>\n      <td>15.147424</td>\n      <td>6.137604</td>\n    </tr>\n    <tr>\n      <th>6</th>\n      <td>10.425029</td>\n      <td>15.425867</td>\n      <td>-5.000838</td>\n    </tr>\n    <tr>\n      <th>14</th>\n      <td>13.165029</td>\n      <td>14.069492</td>\n      <td>-0.904463</td>\n    </tr>\n    <tr>\n      <th>121</th>\n      <td>16.655030</td>\n      <td>12.271583</td>\n      <td>4.383447</td>\n    </tr>\n    <tr>\n      <th>180</th>\n      <td>10.595029</td>\n      <td>10.328569</td>\n      <td>0.266460</td>\n    </tr>\n    <tr>\n      <th>18</th>\n      <td>12.925029</td>\n      <td>14.828667</td>\n      <td>-1.903638</td>\n    </tr>\n    <tr>\n      <th>153</th>\n      <td>7.925029</td>\n      <td>8.033444</td>\n      <td>-0.108415</td>\n    </tr>\n    <tr>\n      <th>175</th>\n      <td>5.975029</td>\n      <td>6.765520</td>\n      <td>-0.790491</td>\n    </tr>\n    <tr>\n      <th>135</th>\n      <td>12.055029</td>\n      <td>13.897717</td>\n      <td>-1.842688</td>\n    </tr>\n    <tr>\n      <th>165</th>\n      <td>8.435029</td>\n      <td>8.194208</td>\n      <td>0.240821</td>\n    </tr>\n    <tr>\n      <th>99</th>\n      <td>14.115029</td>\n      <td>15.071587</td>\n      <td>-0.956558</td>\n    </tr>\n    <tr>\n      <th>111</th>\n      <td>21.705029</td>\n      <td>15.186654</td>\n      <td>6.518375</td>\n    </tr>\n    <tr>\n      <th>102</th>\n      <td>14.115029</td>\n      <td>14.103657</td>\n      <td>0.011372</td>\n    </tr>\n    <tr>\n      <th>120</th>\n      <td>17.035028</td>\n      <td>13.454251</td>\n      <td>3.580777</td>\n    </tr>\n  </tbody>\n</table>\n</div>"
          },
          "metadata": {},
          "execution_count": 66
        }
      ]
    },
    {
      "cell_type": "code",
      "metadata": {
        "id": "GJqCcZU8Oi8W"
      },
      "source": [
        ""
      ],
      "execution_count": null,
      "outputs": []
    },
    {
      "cell_type": "markdown",
      "metadata": {
        "id": "1CpTd5KZOqOn"
      },
      "source": [
        "## **Decision Tree Regression — CART**"
      ]
    },
    {
      "cell_type": "code",
      "metadata": {
        "id": "iqZEWz0iOsxy",
        "outputId": "372e4fa5-29c2-4b5f-c739-db07e24ad841",
        "colab": {
          "base_uri": "https://localhost:8080/"
        }
      },
      "source": [
        "from sklearn.tree import DecisionTreeRegressor\n",
        "\n",
        "regressor = DecisionTreeRegressor(random_state=0)\n",
        "regressor.fit(train_x,train_y)"
      ],
      "execution_count": 67,
      "outputs": [
        {
          "output_type": "execute_result",
          "data": {
            "text/plain": [
              "DecisionTreeRegressor(ccp_alpha=0.0, criterion='mse', max_depth=None,\n",
              "                      max_features=None, max_leaf_nodes=None,\n",
              "                      min_impurity_decrease=0.0, min_impurity_split=None,\n",
              "                      min_samples_leaf=1, min_samples_split=2,\n",
              "                      min_weight_fraction_leaf=0.0, presort='deprecated',\n",
              "                      random_state=0, splitter='best')"
            ]
          },
          "metadata": {},
          "execution_count": 67
        }
      ]
    },
    {
      "cell_type": "code",
      "metadata": {
        "id": "lIXTSLa4O6Bi",
        "outputId": "ac5a1cb0-5ad7-4f15-c9ae-596cd2a328d2",
        "colab": {
          "base_uri": "https://localhost:8080/"
        }
      },
      "source": [
        "prediction3 = regressor.predict(test_x)\n",
        "decisiontree_regression_error = np.mean((prediction3-test_y)**2)\n",
        "decisiontree_regression_error"
      ],
      "execution_count": 68,
      "outputs": [
        {
          "output_type": "execute_result",
          "data": {
            "text/plain": [
              "5.847035267436357"
            ]
          },
          "metadata": {},
          "execution_count": 68
        }
      ]
    },
    {
      "cell_type": "code",
      "metadata": {
        "id": "uJkbwNVWPYgS",
        "outputId": "2cc205e6-14b6-4c1f-d422-23d66b318bc8",
        "colab": {
          "base_uri": "https://localhost:8080/",
          "height": 1000
        }
      },
      "source": [
        "pd.DataFrame({'actual':test_y,\n",
        "              'prediction':prediction3,\n",
        "              'diff':(test_y-prediction3)})"
      ],
      "execution_count": 69,
      "outputs": [
        {
          "output_type": "execute_result",
          "data": {
            "text/plain": [
              "        actual  prediction       diff\n",
              "11   12.595029   10.445029   2.150000\n",
              "142  10.235029   16.115028  -5.879999\n",
              "34   12.315029   13.155029  -0.840000\n",
              "169   7.905028    8.875029  -0.970001\n",
              "1    10.845029   11.015029  -0.170000\n",
              "69   11.375029   11.745029  -0.370000\n",
              "152   5.845029    6.745029  -0.899999\n",
              "188   9.595029    7.995029   1.600000\n",
              "48    9.915029    9.685029   0.230000\n",
              "178   8.715029    7.995029   0.720000\n",
              "182  12.015029   11.925029   0.090000\n",
              "168   8.125029    8.875029  -0.750000\n",
              "101  14.075029   14.205030  -0.130001\n",
              "61   17.495028   16.265028   1.230000\n",
              "93   13.855029   13.815029   0.040000\n",
              "189   7.215029    7.995029  -0.780000\n",
              "82   13.525029   13.975029  -0.450000\n",
              "181  11.365029   11.925029  -0.560000\n",
              "71    9.275029   12.395029  -3.120000\n",
              "179   9.775029    7.995029   1.780000\n",
              "89   14.745029   14.065029   0.680000\n",
              "83   14.185029   15.985029  -1.800000\n",
              "154   9.215029    6.745029   2.470000\n",
              "33   11.745029   11.315029   0.430000\n",
              "88   16.245030   19.075027  -2.829997\n",
              "110  21.285028   21.185028   0.100000\n",
              "6    10.425029   10.445029  -0.020000\n",
              "14   13.165029   14.015029  -0.850000\n",
              "121  16.655030   16.535028   0.120002\n",
              "180  10.595029    7.995029   2.600000\n",
              "18   12.925029   18.165028  -5.239999\n",
              "153   7.925029    6.745029   1.180000\n",
              "175   5.975029    6.185029  -0.210000\n",
              "135  12.055029    8.865028   3.190001\n",
              "165   8.435029    8.525029  -0.090000\n",
              "99   14.115029   14.065029   0.050000\n",
              "111  21.705029   11.655029  10.050000\n",
              "102  14.115029   13.815029   0.300000\n",
              "120  17.035028   18.165028  -1.130000"
            ],
            "text/html": "<div>\n<style scoped>\n    .dataframe tbody tr th:only-of-type {\n        vertical-align: middle;\n    }\n\n    .dataframe tbody tr th {\n        vertical-align: top;\n    }\n\n    .dataframe thead th {\n        text-align: right;\n    }\n</style>\n<table border=\"1\" class=\"dataframe\">\n  <thead>\n    <tr style=\"text-align: right;\">\n      <th></th>\n      <th>actual</th>\n      <th>prediction</th>\n      <th>diff</th>\n    </tr>\n  </thead>\n  <tbody>\n    <tr>\n      <th>11</th>\n      <td>12.595029</td>\n      <td>10.445029</td>\n      <td>2.150000</td>\n    </tr>\n    <tr>\n      <th>142</th>\n      <td>10.235029</td>\n      <td>16.115028</td>\n      <td>-5.879999</td>\n    </tr>\n    <tr>\n      <th>34</th>\n      <td>12.315029</td>\n      <td>13.155029</td>\n      <td>-0.840000</td>\n    </tr>\n    <tr>\n      <th>169</th>\n      <td>7.905028</td>\n      <td>8.875029</td>\n      <td>-0.970001</td>\n    </tr>\n    <tr>\n      <th>1</th>\n      <td>10.845029</td>\n      <td>11.015029</td>\n      <td>-0.170000</td>\n    </tr>\n    <tr>\n      <th>69</th>\n      <td>11.375029</td>\n      <td>11.745029</td>\n      <td>-0.370000</td>\n    </tr>\n    <tr>\n      <th>152</th>\n      <td>5.845029</td>\n      <td>6.745029</td>\n      <td>-0.899999</td>\n    </tr>\n    <tr>\n      <th>188</th>\n      <td>9.595029</td>\n      <td>7.995029</td>\n      <td>1.600000</td>\n    </tr>\n    <tr>\n      <th>48</th>\n      <td>9.915029</td>\n      <td>9.685029</td>\n      <td>0.230000</td>\n    </tr>\n    <tr>\n      <th>178</th>\n      <td>8.715029</td>\n      <td>7.995029</td>\n      <td>0.720000</td>\n    </tr>\n    <tr>\n      <th>182</th>\n      <td>12.015029</td>\n      <td>11.925029</td>\n      <td>0.090000</td>\n    </tr>\n    <tr>\n      <th>168</th>\n      <td>8.125029</td>\n      <td>8.875029</td>\n      <td>-0.750000</td>\n    </tr>\n    <tr>\n      <th>101</th>\n      <td>14.075029</td>\n      <td>14.205030</td>\n      <td>-0.130001</td>\n    </tr>\n    <tr>\n      <th>61</th>\n      <td>17.495028</td>\n      <td>16.265028</td>\n      <td>1.230000</td>\n    </tr>\n    <tr>\n      <th>93</th>\n      <td>13.855029</td>\n      <td>13.815029</td>\n      <td>0.040000</td>\n    </tr>\n    <tr>\n      <th>189</th>\n      <td>7.215029</td>\n      <td>7.995029</td>\n      <td>-0.780000</td>\n    </tr>\n    <tr>\n      <th>82</th>\n      <td>13.525029</td>\n      <td>13.975029</td>\n      <td>-0.450000</td>\n    </tr>\n    <tr>\n      <th>181</th>\n      <td>11.365029</td>\n      <td>11.925029</td>\n      <td>-0.560000</td>\n    </tr>\n    <tr>\n      <th>71</th>\n      <td>9.275029</td>\n      <td>12.395029</td>\n      <td>-3.120000</td>\n    </tr>\n    <tr>\n      <th>179</th>\n      <td>9.775029</td>\n      <td>7.995029</td>\n      <td>1.780000</td>\n    </tr>\n    <tr>\n      <th>89</th>\n      <td>14.745029</td>\n      <td>14.065029</td>\n      <td>0.680000</td>\n    </tr>\n    <tr>\n      <th>83</th>\n      <td>14.185029</td>\n      <td>15.985029</td>\n      <td>-1.800000</td>\n    </tr>\n    <tr>\n      <th>154</th>\n      <td>9.215029</td>\n      <td>6.745029</td>\n      <td>2.470000</td>\n    </tr>\n    <tr>\n      <th>33</th>\n      <td>11.745029</td>\n      <td>11.315029</td>\n      <td>0.430000</td>\n    </tr>\n    <tr>\n      <th>88</th>\n      <td>16.245030</td>\n      <td>19.075027</td>\n      <td>-2.829997</td>\n    </tr>\n    <tr>\n      <th>110</th>\n      <td>21.285028</td>\n      <td>21.185028</td>\n      <td>0.100000</td>\n    </tr>\n    <tr>\n      <th>6</th>\n      <td>10.425029</td>\n      <td>10.445029</td>\n      <td>-0.020000</td>\n    </tr>\n    <tr>\n      <th>14</th>\n      <td>13.165029</td>\n      <td>14.015029</td>\n      <td>-0.850000</td>\n    </tr>\n    <tr>\n      <th>121</th>\n      <td>16.655030</td>\n      <td>16.535028</td>\n      <td>0.120002</td>\n    </tr>\n    <tr>\n      <th>180</th>\n      <td>10.595029</td>\n      <td>7.995029</td>\n      <td>2.600000</td>\n    </tr>\n    <tr>\n      <th>18</th>\n      <td>12.925029</td>\n      <td>18.165028</td>\n      <td>-5.239999</td>\n    </tr>\n    <tr>\n      <th>153</th>\n      <td>7.925029</td>\n      <td>6.745029</td>\n      <td>1.180000</td>\n    </tr>\n    <tr>\n      <th>175</th>\n      <td>5.975029</td>\n      <td>6.185029</td>\n      <td>-0.210000</td>\n    </tr>\n    <tr>\n      <th>135</th>\n      <td>12.055029</td>\n      <td>8.865028</td>\n      <td>3.190001</td>\n    </tr>\n    <tr>\n      <th>165</th>\n      <td>8.435029</td>\n      <td>8.525029</td>\n      <td>-0.090000</td>\n    </tr>\n    <tr>\n      <th>99</th>\n      <td>14.115029</td>\n      <td>14.065029</td>\n      <td>0.050000</td>\n    </tr>\n    <tr>\n      <th>111</th>\n      <td>21.705029</td>\n      <td>11.655029</td>\n      <td>10.050000</td>\n    </tr>\n    <tr>\n      <th>102</th>\n      <td>14.115029</td>\n      <td>13.815029</td>\n      <td>0.300000</td>\n    </tr>\n    <tr>\n      <th>120</th>\n      <td>17.035028</td>\n      <td>18.165028</td>\n      <td>-1.130000</td>\n    </tr>\n  </tbody>\n</table>\n</div>"
          },
          "metadata": {},
          "execution_count": 69
        }
      ]
    },
    {
      "cell_type": "markdown",
      "metadata": {
        "id": "JypkabjKPf5Q"
      },
      "source": [
        "## **Random Forest with maximum Dept — 10**"
      ]
    },
    {
      "cell_type": "code",
      "metadata": {
        "id": "WgyW8bgbPoMF",
        "outputId": "e50ae381-430e-4c6e-c196-c0d5fa2e1297",
        "colab": {
          "base_uri": "https://localhost:8080/"
        }
      },
      "source": [
        "from sklearn.ensemble import RandomForestRegressor\n",
        "\n",
        "regr = RandomForestRegressor(max_depth=10, random_state=0, n_estimators=100)\n",
        "regr.fit(train_x, train_y)"
      ],
      "execution_count": 70,
      "outputs": [
        {
          "output_type": "execute_result",
          "data": {
            "text/plain": [
              "RandomForestRegressor(bootstrap=True, ccp_alpha=0.0, criterion='mse',\n",
              "                      max_depth=10, max_features='auto', max_leaf_nodes=None,\n",
              "                      max_samples=None, min_impurity_decrease=0.0,\n",
              "                      min_impurity_split=None, min_samples_leaf=1,\n",
              "                      min_samples_split=2, min_weight_fraction_leaf=0.0,\n",
              "                      n_estimators=100, n_jobs=None, oob_score=False,\n",
              "                      random_state=0, verbose=0, warm_start=False)"
            ]
          },
          "metadata": {},
          "execution_count": 70
        }
      ]
    },
    {
      "cell_type": "code",
      "metadata": {
        "id": "EMQgVJIcQGq5",
        "outputId": "583abd32-7e34-43d3-b6bf-73424e9dad80",
        "colab": {
          "base_uri": "https://localhost:8080/"
        }
      },
      "source": [
        "prediction4 = regr.predict(test_x)\n",
        "randomforest_dept10_error = np.mean((prediction4-test_y)**2)\n",
        "randomforest_dept10_error"
      ],
      "execution_count": 71,
      "outputs": [
        {
          "output_type": "execute_result",
          "data": {
            "text/plain": [
              "5.396570018009168"
            ]
          },
          "metadata": {},
          "execution_count": 71
        }
      ]
    },
    {
      "cell_type": "code",
      "metadata": {
        "id": "zedWvukrQPSH",
        "outputId": "0b5bf665-c888-4753-d5dc-2024aa89caff",
        "colab": {
          "base_uri": "https://localhost:8080/",
          "height": 1000
        }
      },
      "source": [
        "pd.DataFrame({'actual':test_y,\n",
        "              'prediction':prediction4,\n",
        "              'diff':(test_y-prediction4)})"
      ],
      "execution_count": 72,
      "outputs": [
        {
          "output_type": "execute_result",
          "data": {
            "text/plain": [
              "        actual  prediction      diff\n",
              "11   12.595029   11.684349  0.910680\n",
              "142  10.235029   14.948647 -4.713618\n",
              "34   12.315029   12.495907 -0.180878\n",
              "169   7.905028    8.442886 -0.537857\n",
              "1    10.845029   11.217410 -0.372381\n",
              "69   11.375029   11.704106 -0.329077\n",
              "152   5.845029    7.018029 -1.173000\n",
              "188   9.595029    8.802162  0.792867\n",
              "48    9.915029    9.708129  0.206900\n",
              "178   8.715029    8.862296 -0.147267\n",
              "182  12.015029   11.020129  0.994900\n",
              "168   8.125029    8.537286 -0.412257\n",
              "101  14.075029   14.070561  0.004468\n",
              "61   17.495028   15.370405  2.124623\n",
              "93   13.855029   14.184868 -0.329839\n",
              "189   7.215029    8.328729 -1.113700\n",
              "82   13.525029   16.678881 -3.153852\n",
              "181  11.365029   10.927129  0.437900\n",
              "71    9.275029   12.230436 -2.955407\n",
              "179   9.775029    9.055862  0.719167\n",
              "89   14.745029   14.098446  0.646583\n",
              "83   14.185029   18.462632 -4.277603\n",
              "154   9.215029    8.793929  0.421100\n",
              "33   11.745029   14.980275 -3.235246\n",
              "88   16.245030   18.149554 -1.904524\n",
              "110  21.285028   16.394527  4.890501\n",
              "6    10.425029   10.791500 -0.366471\n",
              "14   13.165029   13.496478 -0.331449\n",
              "121  16.655030   16.364549  0.290481\n",
              "180  10.595029    9.863396  0.731633\n",
              "18   12.925029   15.249770 -2.324741\n",
              "153   7.925029    7.410629  0.514400\n",
              "175   5.975029    6.669829 -0.694800\n",
              "135  12.055029   11.295176  0.759853\n",
              "165   8.435029    8.550254 -0.115225\n",
              "99   14.115029   16.173456 -2.058427\n",
              "111  21.705029   12.266420  9.438609\n",
              "102  14.115029   14.136811 -0.021782\n",
              "120  17.035028   16.305602  0.729426"
            ],
            "text/html": "<div>\n<style scoped>\n    .dataframe tbody tr th:only-of-type {\n        vertical-align: middle;\n    }\n\n    .dataframe tbody tr th {\n        vertical-align: top;\n    }\n\n    .dataframe thead th {\n        text-align: right;\n    }\n</style>\n<table border=\"1\" class=\"dataframe\">\n  <thead>\n    <tr style=\"text-align: right;\">\n      <th></th>\n      <th>actual</th>\n      <th>prediction</th>\n      <th>diff</th>\n    </tr>\n  </thead>\n  <tbody>\n    <tr>\n      <th>11</th>\n      <td>12.595029</td>\n      <td>11.684349</td>\n      <td>0.910680</td>\n    </tr>\n    <tr>\n      <th>142</th>\n      <td>10.235029</td>\n      <td>14.948647</td>\n      <td>-4.713618</td>\n    </tr>\n    <tr>\n      <th>34</th>\n      <td>12.315029</td>\n      <td>12.495907</td>\n      <td>-0.180878</td>\n    </tr>\n    <tr>\n      <th>169</th>\n      <td>7.905028</td>\n      <td>8.442886</td>\n      <td>-0.537857</td>\n    </tr>\n    <tr>\n      <th>1</th>\n      <td>10.845029</td>\n      <td>11.217410</td>\n      <td>-0.372381</td>\n    </tr>\n    <tr>\n      <th>69</th>\n      <td>11.375029</td>\n      <td>11.704106</td>\n      <td>-0.329077</td>\n    </tr>\n    <tr>\n      <th>152</th>\n      <td>5.845029</td>\n      <td>7.018029</td>\n      <td>-1.173000</td>\n    </tr>\n    <tr>\n      <th>188</th>\n      <td>9.595029</td>\n      <td>8.802162</td>\n      <td>0.792867</td>\n    </tr>\n    <tr>\n      <th>48</th>\n      <td>9.915029</td>\n      <td>9.708129</td>\n      <td>0.206900</td>\n    </tr>\n    <tr>\n      <th>178</th>\n      <td>8.715029</td>\n      <td>8.862296</td>\n      <td>-0.147267</td>\n    </tr>\n    <tr>\n      <th>182</th>\n      <td>12.015029</td>\n      <td>11.020129</td>\n      <td>0.994900</td>\n    </tr>\n    <tr>\n      <th>168</th>\n      <td>8.125029</td>\n      <td>8.537286</td>\n      <td>-0.412257</td>\n    </tr>\n    <tr>\n      <th>101</th>\n      <td>14.075029</td>\n      <td>14.070561</td>\n      <td>0.004468</td>\n    </tr>\n    <tr>\n      <th>61</th>\n      <td>17.495028</td>\n      <td>15.370405</td>\n      <td>2.124623</td>\n    </tr>\n    <tr>\n      <th>93</th>\n      <td>13.855029</td>\n      <td>14.184868</td>\n      <td>-0.329839</td>\n    </tr>\n    <tr>\n      <th>189</th>\n      <td>7.215029</td>\n      <td>8.328729</td>\n      <td>-1.113700</td>\n    </tr>\n    <tr>\n      <th>82</th>\n      <td>13.525029</td>\n      <td>16.678881</td>\n      <td>-3.153852</td>\n    </tr>\n    <tr>\n      <th>181</th>\n      <td>11.365029</td>\n      <td>10.927129</td>\n      <td>0.437900</td>\n    </tr>\n    <tr>\n      <th>71</th>\n      <td>9.275029</td>\n      <td>12.230436</td>\n      <td>-2.955407</td>\n    </tr>\n    <tr>\n      <th>179</th>\n      <td>9.775029</td>\n      <td>9.055862</td>\n      <td>0.719167</td>\n    </tr>\n    <tr>\n      <th>89</th>\n      <td>14.745029</td>\n      <td>14.098446</td>\n      <td>0.646583</td>\n    </tr>\n    <tr>\n      <th>83</th>\n      <td>14.185029</td>\n      <td>18.462632</td>\n      <td>-4.277603</td>\n    </tr>\n    <tr>\n      <th>154</th>\n      <td>9.215029</td>\n      <td>8.793929</td>\n      <td>0.421100</td>\n    </tr>\n    <tr>\n      <th>33</th>\n      <td>11.745029</td>\n      <td>14.980275</td>\n      <td>-3.235246</td>\n    </tr>\n    <tr>\n      <th>88</th>\n      <td>16.245030</td>\n      <td>18.149554</td>\n      <td>-1.904524</td>\n    </tr>\n    <tr>\n      <th>110</th>\n      <td>21.285028</td>\n      <td>16.394527</td>\n      <td>4.890501</td>\n    </tr>\n    <tr>\n      <th>6</th>\n      <td>10.425029</td>\n      <td>10.791500</td>\n      <td>-0.366471</td>\n    </tr>\n    <tr>\n      <th>14</th>\n      <td>13.165029</td>\n      <td>13.496478</td>\n      <td>-0.331449</td>\n    </tr>\n    <tr>\n      <th>121</th>\n      <td>16.655030</td>\n      <td>16.364549</td>\n      <td>0.290481</td>\n    </tr>\n    <tr>\n      <th>180</th>\n      <td>10.595029</td>\n      <td>9.863396</td>\n      <td>0.731633</td>\n    </tr>\n    <tr>\n      <th>18</th>\n      <td>12.925029</td>\n      <td>15.249770</td>\n      <td>-2.324741</td>\n    </tr>\n    <tr>\n      <th>153</th>\n      <td>7.925029</td>\n      <td>7.410629</td>\n      <td>0.514400</td>\n    </tr>\n    <tr>\n      <th>175</th>\n      <td>5.975029</td>\n      <td>6.669829</td>\n      <td>-0.694800</td>\n    </tr>\n    <tr>\n      <th>135</th>\n      <td>12.055029</td>\n      <td>11.295176</td>\n      <td>0.759853</td>\n    </tr>\n    <tr>\n      <th>165</th>\n      <td>8.435029</td>\n      <td>8.550254</td>\n      <td>-0.115225</td>\n    </tr>\n    <tr>\n      <th>99</th>\n      <td>14.115029</td>\n      <td>16.173456</td>\n      <td>-2.058427</td>\n    </tr>\n    <tr>\n      <th>111</th>\n      <td>21.705029</td>\n      <td>12.266420</td>\n      <td>9.438609</td>\n    </tr>\n    <tr>\n      <th>102</th>\n      <td>14.115029</td>\n      <td>14.136811</td>\n      <td>-0.021782</td>\n    </tr>\n    <tr>\n      <th>120</th>\n      <td>17.035028</td>\n      <td>16.305602</td>\n      <td>0.729426</td>\n    </tr>\n  </tbody>\n</table>\n</div>"
          },
          "metadata": {},
          "execution_count": 72
        }
      ]
    },
    {
      "cell_type": "markdown",
      "metadata": {
        "id": "EFi_4juSQf9G"
      },
      "source": [
        "## **Random Forest with maximum depth - 50**"
      ]
    },
    {
      "cell_type": "code",
      "metadata": {
        "id": "048l8qPGQtUJ",
        "outputId": "03f9bdcb-dac8-4879-dfe6-0d0721f95109",
        "colab": {
          "base_uri": "https://localhost:8080/"
        }
      },
      "source": [
        "regr = RandomForestRegressor(max_depth=50, random_state=0, n_estimators=100)\n",
        "regr.fit(train_x, train_y)"
      ],
      "execution_count": 73,
      "outputs": [
        {
          "output_type": "execute_result",
          "data": {
            "text/plain": [
              "RandomForestRegressor(bootstrap=True, ccp_alpha=0.0, criterion='mse',\n",
              "                      max_depth=50, max_features='auto', max_leaf_nodes=None,\n",
              "                      max_samples=None, min_impurity_decrease=0.0,\n",
              "                      min_impurity_split=None, min_samples_leaf=1,\n",
              "                      min_samples_split=2, min_weight_fraction_leaf=0.0,\n",
              "                      n_estimators=100, n_jobs=None, oob_score=False,\n",
              "                      random_state=0, verbose=0, warm_start=False)"
            ]
          },
          "metadata": {},
          "execution_count": 73
        }
      ]
    },
    {
      "cell_type": "code",
      "metadata": {
        "id": "_nXJQTrZQ_g4",
        "outputId": "1544e3af-3366-4b7e-c49a-fd8af67c5389",
        "colab": {
          "base_uri": "https://localhost:8080/"
        }
      },
      "source": [
        "prediction5 = regr.predict(test_x)\n",
        "randomforest_dept50_error = np.mean((prediction5-test_y)**2)\n",
        "randomforest_dept50_error"
      ],
      "execution_count": 74,
      "outputs": [
        {
          "output_type": "execute_result",
          "data": {
            "text/plain": [
              "5.429224822158827"
            ]
          },
          "metadata": {},
          "execution_count": 74
        }
      ]
    },
    {
      "cell_type": "code",
      "metadata": {
        "id": "SKbYamApRF52",
        "outputId": "8d00260a-d88c-4af8-821f-ab504361d894",
        "colab": {
          "base_uri": "https://localhost:8080/",
          "height": 1000
        }
      },
      "source": [
        "pd.DataFrame({'actual':test_y,\n",
        "              'prediction':prediction5,\n",
        "              'diff':(test_y-prediction5)})"
      ],
      "execution_count": 75,
      "outputs": [
        {
          "output_type": "execute_result",
          "data": {
            "text/plain": [
              "        actual  prediction      diff\n",
              "11   12.595029   11.696129  0.898900\n",
              "142  10.235029   14.937062 -4.702033\n",
              "34   12.315029   12.487529 -0.172500\n",
              "169   7.905028    8.441186 -0.536157\n",
              "1    10.845029   11.222929 -0.377900\n",
              "69   11.375029   11.583929 -0.208900\n",
              "152   5.845029    7.018029 -1.173000\n",
              "188   9.595029    8.801796  0.793233\n",
              "48    9.915029    9.708129  0.206900\n",
              "178   8.715029    8.849596 -0.134567\n",
              "182  12.015029   11.013062  1.001967\n",
              "168   8.125029    8.535586 -0.410557\n",
              "101  14.075029   14.086729 -0.011700\n",
              "61   17.495028   15.453128  2.041900\n",
              "93   13.855029   14.305547 -0.450518\n",
              "189   7.215029    8.331929 -1.116900\n",
              "82   13.525029   16.802478 -3.277449\n",
              "181  11.365029   10.921562  0.443467\n",
              "71    9.275029   12.174829 -2.899800\n",
              "179   9.775029    9.051996  0.723033\n",
              "89   14.745029   14.113479  0.631550\n",
              "83   14.185029   18.471862 -4.286833\n",
              "154   9.215029    8.790429  0.424600\n",
              "33   11.745029   14.903629 -3.158600\n",
              "88   16.245030   18.182528 -1.937498\n",
              "110  21.285028   16.386729  4.898299\n",
              "6    10.425029   10.762229 -0.337200\n",
              "14   13.165029   13.436329 -0.271300\n",
              "121  16.655030   16.568628  0.086402\n",
              "180  10.595029    9.854329  0.740700\n",
              "18   12.925029   15.503328 -2.578299\n",
              "153   7.925029    7.410629  0.514400\n",
              "175   5.975029    6.672029 -0.697000\n",
              "135  12.055029   11.209729  0.845300\n",
              "165   8.435029    8.551529 -0.116500\n",
              "99   14.115029   16.143328 -2.028299\n",
              "111  21.705029   12.238029  9.467000\n",
              "102  14.115029   14.210204 -0.095175\n",
              "120  17.035028   16.493028  0.542000"
            ],
            "text/html": "<div>\n<style scoped>\n    .dataframe tbody tr th:only-of-type {\n        vertical-align: middle;\n    }\n\n    .dataframe tbody tr th {\n        vertical-align: top;\n    }\n\n    .dataframe thead th {\n        text-align: right;\n    }\n</style>\n<table border=\"1\" class=\"dataframe\">\n  <thead>\n    <tr style=\"text-align: right;\">\n      <th></th>\n      <th>actual</th>\n      <th>prediction</th>\n      <th>diff</th>\n    </tr>\n  </thead>\n  <tbody>\n    <tr>\n      <th>11</th>\n      <td>12.595029</td>\n      <td>11.696129</td>\n      <td>0.898900</td>\n    </tr>\n    <tr>\n      <th>142</th>\n      <td>10.235029</td>\n      <td>14.937062</td>\n      <td>-4.702033</td>\n    </tr>\n    <tr>\n      <th>34</th>\n      <td>12.315029</td>\n      <td>12.487529</td>\n      <td>-0.172500</td>\n    </tr>\n    <tr>\n      <th>169</th>\n      <td>7.905028</td>\n      <td>8.441186</td>\n      <td>-0.536157</td>\n    </tr>\n    <tr>\n      <th>1</th>\n      <td>10.845029</td>\n      <td>11.222929</td>\n      <td>-0.377900</td>\n    </tr>\n    <tr>\n      <th>69</th>\n      <td>11.375029</td>\n      <td>11.583929</td>\n      <td>-0.208900</td>\n    </tr>\n    <tr>\n      <th>152</th>\n      <td>5.845029</td>\n      <td>7.018029</td>\n      <td>-1.173000</td>\n    </tr>\n    <tr>\n      <th>188</th>\n      <td>9.595029</td>\n      <td>8.801796</td>\n      <td>0.793233</td>\n    </tr>\n    <tr>\n      <th>48</th>\n      <td>9.915029</td>\n      <td>9.708129</td>\n      <td>0.206900</td>\n    </tr>\n    <tr>\n      <th>178</th>\n      <td>8.715029</td>\n      <td>8.849596</td>\n      <td>-0.134567</td>\n    </tr>\n    <tr>\n      <th>182</th>\n      <td>12.015029</td>\n      <td>11.013062</td>\n      <td>1.001967</td>\n    </tr>\n    <tr>\n      <th>168</th>\n      <td>8.125029</td>\n      <td>8.535586</td>\n      <td>-0.410557</td>\n    </tr>\n    <tr>\n      <th>101</th>\n      <td>14.075029</td>\n      <td>14.086729</td>\n      <td>-0.011700</td>\n    </tr>\n    <tr>\n      <th>61</th>\n      <td>17.495028</td>\n      <td>15.453128</td>\n      <td>2.041900</td>\n    </tr>\n    <tr>\n      <th>93</th>\n      <td>13.855029</td>\n      <td>14.305547</td>\n      <td>-0.450518</td>\n    </tr>\n    <tr>\n      <th>189</th>\n      <td>7.215029</td>\n      <td>8.331929</td>\n      <td>-1.116900</td>\n    </tr>\n    <tr>\n      <th>82</th>\n      <td>13.525029</td>\n      <td>16.802478</td>\n      <td>-3.277449</td>\n    </tr>\n    <tr>\n      <th>181</th>\n      <td>11.365029</td>\n      <td>10.921562</td>\n      <td>0.443467</td>\n    </tr>\n    <tr>\n      <th>71</th>\n      <td>9.275029</td>\n      <td>12.174829</td>\n      <td>-2.899800</td>\n    </tr>\n    <tr>\n      <th>179</th>\n      <td>9.775029</td>\n      <td>9.051996</td>\n      <td>0.723033</td>\n    </tr>\n    <tr>\n      <th>89</th>\n      <td>14.745029</td>\n      <td>14.113479</td>\n      <td>0.631550</td>\n    </tr>\n    <tr>\n      <th>83</th>\n      <td>14.185029</td>\n      <td>18.471862</td>\n      <td>-4.286833</td>\n    </tr>\n    <tr>\n      <th>154</th>\n      <td>9.215029</td>\n      <td>8.790429</td>\n      <td>0.424600</td>\n    </tr>\n    <tr>\n      <th>33</th>\n      <td>11.745029</td>\n      <td>14.903629</td>\n      <td>-3.158600</td>\n    </tr>\n    <tr>\n      <th>88</th>\n      <td>16.245030</td>\n      <td>18.182528</td>\n      <td>-1.937498</td>\n    </tr>\n    <tr>\n      <th>110</th>\n      <td>21.285028</td>\n      <td>16.386729</td>\n      <td>4.898299</td>\n    </tr>\n    <tr>\n      <th>6</th>\n      <td>10.425029</td>\n      <td>10.762229</td>\n      <td>-0.337200</td>\n    </tr>\n    <tr>\n      <th>14</th>\n      <td>13.165029</td>\n      <td>13.436329</td>\n      <td>-0.271300</td>\n    </tr>\n    <tr>\n      <th>121</th>\n      <td>16.655030</td>\n      <td>16.568628</td>\n      <td>0.086402</td>\n    </tr>\n    <tr>\n      <th>180</th>\n      <td>10.595029</td>\n      <td>9.854329</td>\n      <td>0.740700</td>\n    </tr>\n    <tr>\n      <th>18</th>\n      <td>12.925029</td>\n      <td>15.503328</td>\n      <td>-2.578299</td>\n    </tr>\n    <tr>\n      <th>153</th>\n      <td>7.925029</td>\n      <td>7.410629</td>\n      <td>0.514400</td>\n    </tr>\n    <tr>\n      <th>175</th>\n      <td>5.975029</td>\n      <td>6.672029</td>\n      <td>-0.697000</td>\n    </tr>\n    <tr>\n      <th>135</th>\n      <td>12.055029</td>\n      <td>11.209729</td>\n      <td>0.845300</td>\n    </tr>\n    <tr>\n      <th>165</th>\n      <td>8.435029</td>\n      <td>8.551529</td>\n      <td>-0.116500</td>\n    </tr>\n    <tr>\n      <th>99</th>\n      <td>14.115029</td>\n      <td>16.143328</td>\n      <td>-2.028299</td>\n    </tr>\n    <tr>\n      <th>111</th>\n      <td>21.705029</td>\n      <td>12.238029</td>\n      <td>9.467000</td>\n    </tr>\n    <tr>\n      <th>102</th>\n      <td>14.115029</td>\n      <td>14.210204</td>\n      <td>-0.095175</td>\n    </tr>\n    <tr>\n      <th>120</th>\n      <td>17.035028</td>\n      <td>16.493028</td>\n      <td>0.542000</td>\n    </tr>\n  </tbody>\n</table>\n</div>"
          },
          "metadata": {},
          "execution_count": 75
        }
      ]
    },
    {
      "cell_type": "markdown",
      "metadata": {
        "id": "HRFL4HWyRT4b"
      },
      "source": [
        "## **Error Comparison between different models**"
      ]
    },
    {
      "cell_type": "code",
      "metadata": {
        "id": "P62cg0bDRY7y",
        "outputId": "53ca29f8-d30e-4e02-fc3d-5c2fb5fd5a0b",
        "colab": {
          "base_uri": "https://localhost:8080/"
        }
      },
      "source": [
        "print(\"linear_regression_error :\", linear_regression_error)\n",
        "print(\"polynomical_regression_error :\", polynomical_regression_error)\n",
        "print(\"decisiontree_regression_error :\", decisiontree_regression_error)\n",
        "print(\"randomforest_dept10_error :\", randomforest_dept10_error)\n",
        "print(\"randomforest_dept50_error :\", randomforest_dept50_error)"
      ],
      "execution_count": 76,
      "outputs": [
        {
          "output_type": "stream",
          "name": "stdout",
          "text": [
            "linear_regression_error : 7.5770207963850025\npolynomical_regression_error : 144.06419390642378\ndecisiontree_regression_error : 5.847035267436357\nrandomforest_dept10_error : 5.396570018009168\nrandomforest_dept50_error : 5.429224822158827\n"
          ]
        }
      ]
    },
    {
      "cell_type": "code",
      "metadata": {
        "id": "J1PDYj57TG3g"
      },
      "source": [
        ""
      ],
      "execution_count": null,
      "outputs": []
    }
  ]
}